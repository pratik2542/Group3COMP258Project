{
 "cells": [
  {
   "cell_type": "code",
   "execution_count": 1,
   "id": "b79bd52e",
   "metadata": {},
   "outputs": [],
   "source": [
    "import numpy as np\n",
    "import matplotlib.pyplot as plt\n",
    "import pandas as pd\n",
    "import tensorflow as tf\n",
    "from tensorflow.keras import layers\n",
    "from keras.optimizers import Adam\n",
    "from pickle import dump\n",
    "import keras\n",
    "import keras_tuner\n",
    "\n",
    "np.random.seed(68)"
   ]
  },
  {
   "cell_type": "code",
   "execution_count": 2,
   "id": "c095bc37",
   "metadata": {},
   "outputs": [],
   "source": [
    "# Import dataset from csv2\n",
    "group3_dataset = pd.read_csv(\"student_data.csv\")"
   ]
  },
  {
   "cell_type": "code",
   "execution_count": 3,
   "id": "ad676bba",
   "metadata": {},
   "outputs": [
    {
     "data": {
      "text/plain": [
       "array(['Student Data', 'Unnamed: 1', 'Unnamed: 2', 'Unnamed: 3',\n",
       "       'Unnamed: 4', 'Unnamed: 5', 'Unnamed: 6', 'Unnamed: 7',\n",
       "       'Unnamed: 8', 'Unnamed: 9', 'Unnamed: 10', 'Unnamed: 11',\n",
       "       'Unnamed: 12', 'Unnamed: 13', 'Unnamed: 14'], dtype=object)"
      ]
     },
     "execution_count": 3,
     "metadata": {},
     "output_type": "execute_result"
    }
   ],
   "source": [
    "# Get column names\n",
    "group3_dataset.columns.values"
   ]
  },
  {
   "cell_type": "code",
   "execution_count": 4,
   "id": "9369bfb1",
   "metadata": {},
   "outputs": [
    {
     "data": {
      "text/html": [
       "<div>\n",
       "<style scoped>\n",
       "    .dataframe tbody tr th:only-of-type {\n",
       "        vertical-align: middle;\n",
       "    }\n",
       "\n",
       "    .dataframe tbody tr th {\n",
       "        vertical-align: top;\n",
       "    }\n",
       "\n",
       "    .dataframe thead th {\n",
       "        text-align: right;\n",
       "    }\n",
       "</style>\n",
       "<table border=\"1\" class=\"dataframe\">\n",
       "  <thead>\n",
       "    <tr style=\"text-align: right;\">\n",
       "      <th></th>\n",
       "      <th>Student Data</th>\n",
       "      <th>Unnamed: 1</th>\n",
       "      <th>Unnamed: 2</th>\n",
       "      <th>Unnamed: 3</th>\n",
       "      <th>Unnamed: 4</th>\n",
       "      <th>Unnamed: 5</th>\n",
       "      <th>Unnamed: 6</th>\n",
       "      <th>Unnamed: 7</th>\n",
       "      <th>Unnamed: 8</th>\n",
       "      <th>Unnamed: 9</th>\n",
       "      <th>Unnamed: 10</th>\n",
       "      <th>Unnamed: 11</th>\n",
       "      <th>Unnamed: 12</th>\n",
       "      <th>Unnamed: 13</th>\n",
       "      <th>Unnamed: 14</th>\n",
       "    </tr>\n",
       "  </thead>\n",
       "  <tbody>\n",
       "    <tr>\n",
       "      <th>0</th>\n",
       "      <td>Independent variables</td>\n",
       "      <td>NaN</td>\n",
       "      <td>NaN</td>\n",
       "      <td>NaN</td>\n",
       "      <td>NaN</td>\n",
       "      <td>NaN</td>\n",
       "      <td>NaN</td>\n",
       "      <td>NaN</td>\n",
       "      <td>NaN</td>\n",
       "      <td>NaN</td>\n",
       "      <td>NaN</td>\n",
       "      <td>NaN</td>\n",
       "      <td>NaN</td>\n",
       "      <td>NaN</td>\n",
       "      <td>NaN</td>\n",
       "    </tr>\n",
       "    <tr>\n",
       "      <th>1</th>\n",
       "      <td>First Term Gpa' numeric</td>\n",
       "      <td>NaN</td>\n",
       "      <td>NaN</td>\n",
       "      <td>NaN</td>\n",
       "      <td>NaN</td>\n",
       "      <td>NaN</td>\n",
       "      <td>NaN</td>\n",
       "      <td>NaN</td>\n",
       "      <td>NaN</td>\n",
       "      <td>NaN</td>\n",
       "      <td>NaN</td>\n",
       "      <td>NaN</td>\n",
       "      <td>NaN</td>\n",
       "      <td>NaN</td>\n",
       "      <td>NaN</td>\n",
       "    </tr>\n",
       "    <tr>\n",
       "      <th>2</th>\n",
       "      <td>Second Term Gpa' numeric</td>\n",
       "      <td>NaN</td>\n",
       "      <td>NaN</td>\n",
       "      <td>NaN</td>\n",
       "      <td>NaN</td>\n",
       "      <td>NaN</td>\n",
       "      <td>NaN</td>\n",
       "      <td>NaN</td>\n",
       "      <td>NaN</td>\n",
       "      <td>NaN</td>\n",
       "      <td>NaN</td>\n",
       "      <td>NaN</td>\n",
       "      <td>NaN</td>\n",
       "      <td>NaN</td>\n",
       "      <td>NaN</td>\n",
       "    </tr>\n",
       "    <tr>\n",
       "      <th>3</th>\n",
       "      <td>First Language' numeric</td>\n",
       "      <td>NaN</td>\n",
       "      <td>NaN</td>\n",
       "      <td>NaN</td>\n",
       "      <td>NaN</td>\n",
       "      <td>NaN</td>\n",
       "      <td>NaN</td>\n",
       "      <td>NaN</td>\n",
       "      <td>NaN</td>\n",
       "      <td>NaN</td>\n",
       "      <td>NaN</td>\n",
       "      <td>NaN</td>\n",
       "      <td>NaN</td>\n",
       "      <td>NaN</td>\n",
       "      <td>NaN</td>\n",
       "    </tr>\n",
       "    <tr>\n",
       "      <th>4</th>\n",
       "      <td>Funding numeric</td>\n",
       "      <td>NaN</td>\n",
       "      <td>NaN</td>\n",
       "      <td>NaN</td>\n",
       "      <td>NaN</td>\n",
       "      <td>NaN</td>\n",
       "      <td>NaN</td>\n",
       "      <td>NaN</td>\n",
       "      <td>NaN</td>\n",
       "      <td>NaN</td>\n",
       "      <td>NaN</td>\n",
       "      <td>NaN</td>\n",
       "      <td>NaN</td>\n",
       "      <td>NaN</td>\n",
       "      <td>NaN</td>\n",
       "    </tr>\n",
       "    <tr>\n",
       "      <th>5</th>\n",
       "      <td>School numeric</td>\n",
       "      <td>NaN</td>\n",
       "      <td>NaN</td>\n",
       "      <td>NaN</td>\n",
       "      <td>NaN</td>\n",
       "      <td>NaN</td>\n",
       "      <td>NaN</td>\n",
       "      <td>NaN</td>\n",
       "      <td>NaN</td>\n",
       "      <td>NaN</td>\n",
       "      <td>NaN</td>\n",
       "      <td>NaN</td>\n",
       "      <td>NaN</td>\n",
       "      <td>NaN</td>\n",
       "      <td>NaN</td>\n",
       "    </tr>\n",
       "    <tr>\n",
       "      <th>6</th>\n",
       "      <td>FastTrack numeric</td>\n",
       "      <td>NaN</td>\n",
       "      <td>NaN</td>\n",
       "      <td>NaN</td>\n",
       "      <td>NaN</td>\n",
       "      <td>NaN</td>\n",
       "      <td>NaN</td>\n",
       "      <td>NaN</td>\n",
       "      <td>NaN</td>\n",
       "      <td>NaN</td>\n",
       "      <td>NaN</td>\n",
       "      <td>NaN</td>\n",
       "      <td>NaN</td>\n",
       "      <td>NaN</td>\n",
       "      <td>NaN</td>\n",
       "    </tr>\n",
       "    <tr>\n",
       "      <th>7</th>\n",
       "      <td>Coop numeric</td>\n",
       "      <td>NaN</td>\n",
       "      <td>NaN</td>\n",
       "      <td>NaN</td>\n",
       "      <td>NaN</td>\n",
       "      <td>NaN</td>\n",
       "      <td>NaN</td>\n",
       "      <td>NaN</td>\n",
       "      <td>NaN</td>\n",
       "      <td>NaN</td>\n",
       "      <td>NaN</td>\n",
       "      <td>NaN</td>\n",
       "      <td>NaN</td>\n",
       "      <td>NaN</td>\n",
       "      <td>NaN</td>\n",
       "    </tr>\n",
       "    <tr>\n",
       "      <th>8</th>\n",
       "      <td>Residency numeric</td>\n",
       "      <td>NaN</td>\n",
       "      <td>NaN</td>\n",
       "      <td>NaN</td>\n",
       "      <td>NaN</td>\n",
       "      <td>NaN</td>\n",
       "      <td>NaN</td>\n",
       "      <td>NaN</td>\n",
       "      <td>NaN</td>\n",
       "      <td>NaN</td>\n",
       "      <td>NaN</td>\n",
       "      <td>NaN</td>\n",
       "      <td>NaN</td>\n",
       "      <td>NaN</td>\n",
       "      <td>NaN</td>\n",
       "    </tr>\n",
       "    <tr>\n",
       "      <th>9</th>\n",
       "      <td>Gender numeric</td>\n",
       "      <td>NaN</td>\n",
       "      <td>NaN</td>\n",
       "      <td>NaN</td>\n",
       "      <td>NaN</td>\n",
       "      <td>NaN</td>\n",
       "      <td>NaN</td>\n",
       "      <td>NaN</td>\n",
       "      <td>NaN</td>\n",
       "      <td>NaN</td>\n",
       "      <td>NaN</td>\n",
       "      <td>NaN</td>\n",
       "      <td>NaN</td>\n",
       "      <td>NaN</td>\n",
       "      <td>NaN</td>\n",
       "    </tr>\n",
       "    <tr>\n",
       "      <th>10</th>\n",
       "      <td>Previous Education' numeric</td>\n",
       "      <td>NaN</td>\n",
       "      <td>NaN</td>\n",
       "      <td>NaN</td>\n",
       "      <td>NaN</td>\n",
       "      <td>NaN</td>\n",
       "      <td>NaN</td>\n",
       "      <td>NaN</td>\n",
       "      <td>NaN</td>\n",
       "      <td>NaN</td>\n",
       "      <td>NaN</td>\n",
       "      <td>NaN</td>\n",
       "      <td>NaN</td>\n",
       "      <td>NaN</td>\n",
       "      <td>NaN</td>\n",
       "    </tr>\n",
       "    <tr>\n",
       "      <th>11</th>\n",
       "      <td>Age Group' numeric</td>\n",
       "      <td>NaN</td>\n",
       "      <td>NaN</td>\n",
       "      <td>NaN</td>\n",
       "      <td>NaN</td>\n",
       "      <td>NaN</td>\n",
       "      <td>NaN</td>\n",
       "      <td>NaN</td>\n",
       "      <td>NaN</td>\n",
       "      <td>NaN</td>\n",
       "      <td>NaN</td>\n",
       "      <td>NaN</td>\n",
       "      <td>NaN</td>\n",
       "      <td>NaN</td>\n",
       "      <td>NaN</td>\n",
       "    </tr>\n",
       "    <tr>\n",
       "      <th>12</th>\n",
       "      <td>High School Average Mark' numeric</td>\n",
       "      <td>NaN</td>\n",
       "      <td>NaN</td>\n",
       "      <td>NaN</td>\n",
       "      <td>NaN</td>\n",
       "      <td>NaN</td>\n",
       "      <td>NaN</td>\n",
       "      <td>NaN</td>\n",
       "      <td>NaN</td>\n",
       "      <td>NaN</td>\n",
       "      <td>NaN</td>\n",
       "      <td>NaN</td>\n",
       "      <td>NaN</td>\n",
       "      <td>NaN</td>\n",
       "      <td>NaN</td>\n",
       "    </tr>\n",
       "    <tr>\n",
       "      <th>13</th>\n",
       "      <td>Math Score' numeric</td>\n",
       "      <td>NaN</td>\n",
       "      <td>NaN</td>\n",
       "      <td>NaN</td>\n",
       "      <td>NaN</td>\n",
       "      <td>NaN</td>\n",
       "      <td>NaN</td>\n",
       "      <td>NaN</td>\n",
       "      <td>NaN</td>\n",
       "      <td>NaN</td>\n",
       "      <td>NaN</td>\n",
       "      <td>NaN</td>\n",
       "      <td>NaN</td>\n",
       "      <td>NaN</td>\n",
       "      <td>NaN</td>\n",
       "    </tr>\n",
       "    <tr>\n",
       "      <th>14</th>\n",
       "      <td>English Grade' numeric</td>\n",
       "      <td>NaN</td>\n",
       "      <td>NaN</td>\n",
       "      <td>NaN</td>\n",
       "      <td>NaN</td>\n",
       "      <td>NaN</td>\n",
       "      <td>NaN</td>\n",
       "      <td>NaN</td>\n",
       "      <td>NaN</td>\n",
       "      <td>NaN</td>\n",
       "      <td>NaN</td>\n",
       "      <td>NaN</td>\n",
       "      <td>NaN</td>\n",
       "      <td>NaN</td>\n",
       "      <td>NaN</td>\n",
       "    </tr>\n",
       "    <tr>\n",
       "      <th>15</th>\n",
       "      <td>NaN</td>\n",
       "      <td>NaN</td>\n",
       "      <td>NaN</td>\n",
       "      <td>NaN</td>\n",
       "      <td>NaN</td>\n",
       "      <td>NaN</td>\n",
       "      <td>NaN</td>\n",
       "      <td>NaN</td>\n",
       "      <td>NaN</td>\n",
       "      <td>NaN</td>\n",
       "      <td>NaN</td>\n",
       "      <td>NaN</td>\n",
       "      <td>NaN</td>\n",
       "      <td>NaN</td>\n",
       "      <td>NaN</td>\n",
       "    </tr>\n",
       "    <tr>\n",
       "      <th>16</th>\n",
       "      <td>Dependent variable</td>\n",
       "      <td>NaN</td>\n",
       "      <td>NaN</td>\n",
       "      <td>NaN</td>\n",
       "      <td>NaN</td>\n",
       "      <td>NaN</td>\n",
       "      <td>NaN</td>\n",
       "      <td>NaN</td>\n",
       "      <td>NaN</td>\n",
       "      <td>NaN</td>\n",
       "      <td>NaN</td>\n",
       "      <td>NaN</td>\n",
       "      <td>NaN</td>\n",
       "      <td>NaN</td>\n",
       "      <td>NaN</td>\n",
       "    </tr>\n",
       "    <tr>\n",
       "      <th>17</th>\n",
       "      <td>FirstYearPersistence {1,0}</td>\n",
       "      <td>NaN</td>\n",
       "      <td>NaN</td>\n",
       "      <td>NaN</td>\n",
       "      <td>NaN</td>\n",
       "      <td>NaN</td>\n",
       "      <td>NaN</td>\n",
       "      <td>NaN</td>\n",
       "      <td>NaN</td>\n",
       "      <td>NaN</td>\n",
       "      <td>NaN</td>\n",
       "      <td>NaN</td>\n",
       "      <td>NaN</td>\n",
       "      <td>NaN</td>\n",
       "      <td>NaN</td>\n",
       "    </tr>\n",
       "    <tr>\n",
       "      <th>18</th>\n",
       "      <td>NaN</td>\n",
       "      <td>NaN</td>\n",
       "      <td>NaN</td>\n",
       "      <td>NaN</td>\n",
       "      <td>NaN</td>\n",
       "      <td>NaN</td>\n",
       "      <td>NaN</td>\n",
       "      <td>NaN</td>\n",
       "      <td>NaN</td>\n",
       "      <td>NaN</td>\n",
       "      <td>NaN</td>\n",
       "      <td>NaN</td>\n",
       "      <td>NaN</td>\n",
       "      <td>NaN</td>\n",
       "      <td>NaN</td>\n",
       "    </tr>\n",
       "    <tr>\n",
       "      <th>19</th>\n",
       "      <td>NaN</td>\n",
       "      <td>NaN</td>\n",
       "      <td>NaN</td>\n",
       "      <td>NaN</td>\n",
       "      <td>NaN</td>\n",
       "      <td>NaN</td>\n",
       "      <td>NaN</td>\n",
       "      <td>NaN</td>\n",
       "      <td>NaN</td>\n",
       "      <td>NaN</td>\n",
       "      <td>NaN</td>\n",
       "      <td>NaN</td>\n",
       "      <td>NaN</td>\n",
       "      <td>NaN</td>\n",
       "      <td>NaN</td>\n",
       "    </tr>\n",
       "    <tr>\n",
       "      <th>20</th>\n",
       "      <td>NaN</td>\n",
       "      <td>NaN</td>\n",
       "      <td>NaN</td>\n",
       "      <td>NaN</td>\n",
       "      <td>NaN</td>\n",
       "      <td>NaN</td>\n",
       "      <td>NaN</td>\n",
       "      <td>NaN</td>\n",
       "      <td>NaN</td>\n",
       "      <td>NaN</td>\n",
       "      <td>NaN</td>\n",
       "      <td>NaN</td>\n",
       "      <td>NaN</td>\n",
       "      <td>NaN</td>\n",
       "      <td>NaN</td>\n",
       "    </tr>\n",
       "    <tr>\n",
       "      <th>21</th>\n",
       "      <td>NaN</td>\n",
       "      <td>NaN</td>\n",
       "      <td>NaN</td>\n",
       "      <td>NaN</td>\n",
       "      <td>NaN</td>\n",
       "      <td>NaN</td>\n",
       "      <td>NaN</td>\n",
       "      <td>NaN</td>\n",
       "      <td>NaN</td>\n",
       "      <td>NaN</td>\n",
       "      <td>NaN</td>\n",
       "      <td>NaN</td>\n",
       "      <td>NaN</td>\n",
       "      <td>NaN</td>\n",
       "      <td>NaN</td>\n",
       "    </tr>\n",
       "    <tr>\n",
       "      <th>22</th>\n",
       "      <td>NaN</td>\n",
       "      <td>NaN</td>\n",
       "      <td>NaN</td>\n",
       "      <td>NaN</td>\n",
       "      <td>NaN</td>\n",
       "      <td>NaN</td>\n",
       "      <td>NaN</td>\n",
       "      <td>NaN</td>\n",
       "      <td>NaN</td>\n",
       "      <td>NaN</td>\n",
       "      <td>NaN</td>\n",
       "      <td>NaN</td>\n",
       "      <td>NaN</td>\n",
       "      <td>NaN</td>\n",
       "      <td>NaN</td>\n",
       "    </tr>\n",
       "    <tr>\n",
       "      <th>23</th>\n",
       "      <td>0</td>\n",
       "      <td>0</td>\n",
       "      <td>1</td>\n",
       "      <td>2.0</td>\n",
       "      <td>6.0</td>\n",
       "      <td>2.0</td>\n",
       "      <td>1.0</td>\n",
       "      <td>1.0</td>\n",
       "      <td>2.0</td>\n",
       "      <td>1</td>\n",
       "      <td>1</td>\n",
       "      <td>59</td>\n",
       "      <td>16</td>\n",
       "      <td>7</td>\n",
       "      <td>1.0</td>\n",
       "    </tr>\n",
       "    <tr>\n",
       "      <th>24</th>\n",
       "      <td>2.5</td>\n",
       "      <td>2</td>\n",
       "      <td>3</td>\n",
       "      <td>4.0</td>\n",
       "      <td>6.0</td>\n",
       "      <td>1.0</td>\n",
       "      <td>2.0</td>\n",
       "      <td>2.0</td>\n",
       "      <td>2.0</td>\n",
       "      <td>1</td>\n",
       "      <td>3</td>\n",
       "      <td>?</td>\n",
       "      <td>?</td>\n",
       "      <td>7</td>\n",
       "      <td>1.0</td>\n",
       "    </tr>\n",
       "  </tbody>\n",
       "</table>\n",
       "</div>"
      ],
      "text/plain": [
       "                         Student Data Unnamed: 1 Unnamed: 2  Unnamed: 3  \\\n",
       "0               Independent variables        NaN        NaN         NaN   \n",
       "1             First Term Gpa' numeric        NaN        NaN         NaN   \n",
       "2            Second Term Gpa' numeric        NaN        NaN         NaN   \n",
       "3             First Language' numeric        NaN        NaN         NaN   \n",
       "4                     Funding numeric        NaN        NaN         NaN   \n",
       "5                      School numeric        NaN        NaN         NaN   \n",
       "6                   FastTrack numeric        NaN        NaN         NaN   \n",
       "7                        Coop numeric        NaN        NaN         NaN   \n",
       "8                   Residency numeric        NaN        NaN         NaN   \n",
       "9                      Gender numeric        NaN        NaN         NaN   \n",
       "10        Previous Education' numeric        NaN        NaN         NaN   \n",
       "11                 Age Group' numeric        NaN        NaN         NaN   \n",
       "12  High School Average Mark' numeric        NaN        NaN         NaN   \n",
       "13                Math Score' numeric        NaN        NaN         NaN   \n",
       "14             English Grade' numeric        NaN        NaN         NaN   \n",
       "15                                NaN        NaN        NaN         NaN   \n",
       "16                 Dependent variable        NaN        NaN         NaN   \n",
       "17         FirstYearPersistence {1,0}        NaN        NaN         NaN   \n",
       "18                                NaN        NaN        NaN         NaN   \n",
       "19                                NaN        NaN        NaN         NaN   \n",
       "20                                NaN        NaN        NaN         NaN   \n",
       "21                                NaN        NaN        NaN         NaN   \n",
       "22                                NaN        NaN        NaN         NaN   \n",
       "23                                  0          0          1         2.0   \n",
       "24                                2.5          2          3         4.0   \n",
       "\n",
       "    Unnamed: 4  Unnamed: 5  Unnamed: 6  Unnamed: 7  Unnamed: 8 Unnamed: 9  \\\n",
       "0          NaN         NaN         NaN         NaN         NaN        NaN   \n",
       "1          NaN         NaN         NaN         NaN         NaN        NaN   \n",
       "2          NaN         NaN         NaN         NaN         NaN        NaN   \n",
       "3          NaN         NaN         NaN         NaN         NaN        NaN   \n",
       "4          NaN         NaN         NaN         NaN         NaN        NaN   \n",
       "5          NaN         NaN         NaN         NaN         NaN        NaN   \n",
       "6          NaN         NaN         NaN         NaN         NaN        NaN   \n",
       "7          NaN         NaN         NaN         NaN         NaN        NaN   \n",
       "8          NaN         NaN         NaN         NaN         NaN        NaN   \n",
       "9          NaN         NaN         NaN         NaN         NaN        NaN   \n",
       "10         NaN         NaN         NaN         NaN         NaN        NaN   \n",
       "11         NaN         NaN         NaN         NaN         NaN        NaN   \n",
       "12         NaN         NaN         NaN         NaN         NaN        NaN   \n",
       "13         NaN         NaN         NaN         NaN         NaN        NaN   \n",
       "14         NaN         NaN         NaN         NaN         NaN        NaN   \n",
       "15         NaN         NaN         NaN         NaN         NaN        NaN   \n",
       "16         NaN         NaN         NaN         NaN         NaN        NaN   \n",
       "17         NaN         NaN         NaN         NaN         NaN        NaN   \n",
       "18         NaN         NaN         NaN         NaN         NaN        NaN   \n",
       "19         NaN         NaN         NaN         NaN         NaN        NaN   \n",
       "20         NaN         NaN         NaN         NaN         NaN        NaN   \n",
       "21         NaN         NaN         NaN         NaN         NaN        NaN   \n",
       "22         NaN         NaN         NaN         NaN         NaN        NaN   \n",
       "23         6.0         2.0         1.0         1.0         2.0          1   \n",
       "24         6.0         1.0         2.0         2.0         2.0          1   \n",
       "\n",
       "   Unnamed: 10 Unnamed: 11 Unnamed: 12 Unnamed: 13  Unnamed: 14  \n",
       "0          NaN         NaN         NaN         NaN          NaN  \n",
       "1          NaN         NaN         NaN         NaN          NaN  \n",
       "2          NaN         NaN         NaN         NaN          NaN  \n",
       "3          NaN         NaN         NaN         NaN          NaN  \n",
       "4          NaN         NaN         NaN         NaN          NaN  \n",
       "5          NaN         NaN         NaN         NaN          NaN  \n",
       "6          NaN         NaN         NaN         NaN          NaN  \n",
       "7          NaN         NaN         NaN         NaN          NaN  \n",
       "8          NaN         NaN         NaN         NaN          NaN  \n",
       "9          NaN         NaN         NaN         NaN          NaN  \n",
       "10         NaN         NaN         NaN         NaN          NaN  \n",
       "11         NaN         NaN         NaN         NaN          NaN  \n",
       "12         NaN         NaN         NaN         NaN          NaN  \n",
       "13         NaN         NaN         NaN         NaN          NaN  \n",
       "14         NaN         NaN         NaN         NaN          NaN  \n",
       "15         NaN         NaN         NaN         NaN          NaN  \n",
       "16         NaN         NaN         NaN         NaN          NaN  \n",
       "17         NaN         NaN         NaN         NaN          NaN  \n",
       "18         NaN         NaN         NaN         NaN          NaN  \n",
       "19         NaN         NaN         NaN         NaN          NaN  \n",
       "20         NaN         NaN         NaN         NaN          NaN  \n",
       "21         NaN         NaN         NaN         NaN          NaN  \n",
       "22         NaN         NaN         NaN         NaN          NaN  \n",
       "23           1          59          16           7          1.0  \n",
       "24           3           ?           ?           7          1.0  "
      ]
     },
     "execution_count": 4,
     "metadata": {},
     "output_type": "execute_result"
    }
   ],
   "source": [
    "group3_dataset.head(25)\n",
    "\n",
    "# Actual data starts from 23"
   ]
  },
  {
   "cell_type": "code",
   "execution_count": 5,
   "id": "5cb53e71",
   "metadata": {},
   "outputs": [],
   "source": [
    "# Renaming column names\n",
    "group3_dataset.columns=['First_Term_Gpa','Second_Term_Gpa','First_Language_numeric','Funding_numeric','School_numeric','FastTrack_numeric','Coop_numeric','Residency_numeric','Gender_numeric','Previous_Education_numeric','Age_Group_numeric','High_School_Average_Mark_numeric','Math_Score_numeric','English_Grade_numeric','FirstYearPersistence']"
   ]
  },
  {
   "cell_type": "code",
   "execution_count": 6,
   "id": "97f8ca3c",
   "metadata": {},
   "outputs": [],
   "source": [
    "# Dropping first 23 rows\n",
    "group3_dataset = group4_dataset.drop(group4_dataset.index[range(23)])"
   ]
  },
  {
   "cell_type": "code",
   "execution_count": 7,
   "id": "b7521f3b",
   "metadata": {},
   "outputs": [],
   "source": [
    "columns = group3_dataset.columns.values\n",
    "for i in columns:\n",
    "    \n",
    "    # Replace ? with nan\n",
    "    group3_dataset.replace({i: {'?': np.nan}}, regex=False,inplace=True)\n",
    "    \n",
    "    # Convert dataset to float\n",
    "    group3_dataset[i] = group3_dataset[i].astype(float)"
   ]
  },
  {
   "cell_type": "code",
   "execution_count": 8,
   "id": "66f9fcbf",
   "metadata": {},
   "outputs": [
    {
     "name": "stdout",
     "output_type": "stream",
     "text": [
      "<class 'pandas.core.frame.DataFrame'>\n",
      "RangeIndex: 1437 entries, 23 to 1459\n",
      "Data columns (total 15 columns):\n",
      " #   Column                            Non-Null Count  Dtype  \n",
      "---  ------                            --------------  -----  \n",
      " 0   First_Term_Gpa                    1420 non-null   float64\n",
      " 1   Second_Term_Gpa                   1277 non-null   float64\n",
      " 2   First_Language_numeric            1326 non-null   float64\n",
      " 3   Funding_numeric                   1437 non-null   float64\n",
      " 4   School_numeric                    1437 non-null   float64\n",
      " 5   FastTrack_numeric                 1437 non-null   float64\n",
      " 6   Coop_numeric                      1437 non-null   float64\n",
      " 7   Residency_numeric                 1437 non-null   float64\n",
      " 8   Gender_numeric                    1437 non-null   float64\n",
      " 9   Previous_Education_numeric        1433 non-null   float64\n",
      " 10  Age_Group_numeric                 1433 non-null   float64\n",
      " 11  High_School_Average_Mark_numeric  694 non-null    float64\n",
      " 12  Math_Score_numeric                975 non-null    float64\n",
      " 13  English_Grade_numeric             1392 non-null   float64\n",
      " 14  FirstYearPersistence              1437 non-null   float64\n",
      "dtypes: float64(15)\n",
      "memory usage: 168.5 KB\n"
     ]
    }
   ],
   "source": [
    "# Datatype changed to float\n",
    "group3_dataset.info()"
   ]
  },
  {
   "cell_type": "code",
   "execution_count": 9,
   "id": "6966e34e",
   "metadata": {},
   "outputs": [
    {
     "name": "stdout",
     "output_type": "stream",
     "text": [
      "First_Term_Gpa                       17\n",
      "Second_Term_Gpa                     160\n",
      "First_Language_numeric              111\n",
      "Funding_numeric                       0\n",
      "School_numeric                        0\n",
      "FastTrack_numeric                     0\n",
      "Coop_numeric                          0\n",
      "Residency_numeric                     0\n",
      "Gender_numeric                        0\n",
      "Previous_Education_numeric            4\n",
      "Age_Group_numeric                     4\n",
      "High_School_Average_Mark_numeric    743\n",
      "Math_Score_numeric                  462\n",
      "English_Grade_numeric                45\n",
      "FirstYearPersistence                  0\n",
      "dtype: int64\n"
     ]
    }
   ],
   "source": [
    "# Count of null values\n",
    "print(group3_dataset.isnull().sum())"
   ]
  },
  {
   "cell_type": "code",
   "execution_count": 10,
   "id": "33c9a9c3",
   "metadata": {},
   "outputs": [],
   "source": [
    "# Dropping column because of high null value count\n",
    "\n",
    "group3_dataset =group3_dataset.drop('High_School_Average_Mark_numeric',axis=1)\n",
    "group3_dataset =group3_dataset.drop('Math_Score_numeric',axis=1)"
   ]
  },
  {
   "cell_type": "code",
   "execution_count": 11,
   "id": "627ce2d6",
   "metadata": {},
   "outputs": [],
   "source": [
    "# Handling missing values for other columns\n",
    "columns = group3_dataset.columns.values\n",
    "for i in columns:\n",
    "    group3_dataset.fillna(value = round(group3_dataset[i].mean()),inplace=True)"
   ]
  },
  {
   "cell_type": "code",
   "execution_count": 12,
   "id": "51423992",
   "metadata": {},
   "outputs": [
    {
     "data": {
      "text/plain": [
       "First_Term_Gpa                692\n",
       "Second_Term_Gpa               717\n",
       "First_Language_numeric          3\n",
       "Funding_numeric                 6\n",
       "School_numeric                  1\n",
       "FastTrack_numeric               2\n",
       "Coop_numeric                    2\n",
       "Residency_numeric               2\n",
       "Gender_numeric                  3\n",
       "Previous_Education_numeric      4\n",
       "Age_Group_numeric               8\n",
       "English_Grade_numeric           8\n",
       "FirstYearPersistence            2\n",
       "dtype: int64"
      ]
     },
     "execution_count": 12,
     "metadata": {},
     "output_type": "execute_result"
    }
   ],
   "source": [
    "group3_dataset.nunique(axis=0)"
   ]
  },
  {
   "cell_type": "code",
   "execution_count": 13,
   "id": "60e00fed",
   "metadata": {},
   "outputs": [],
   "source": [
    "bins = [0,0.5,1,1.5,2,2.5,3,3.5,4,4.5]"
   ]
  },
  {
   "cell_type": "code",
   "execution_count": 14,
   "id": "67e0b25d",
   "metadata": {},
   "outputs": [],
   "source": [
    "# Convert data into bins for better clasification\n",
    "group3_dataset['First_Term_Gpa'] = np.searchsorted(bins, group3_dataset['First_Term_Gpa'].values)"
   ]
  },
  {
   "cell_type": "code",
   "execution_count": 15,
   "id": "05a6c01d",
   "metadata": {},
   "outputs": [],
   "source": [
    "group3_dataset['Second_Term_Gpa'] = np.searchsorted(bins, group3_dataset['Second_Term_Gpa'].values)"
   ]
  },
  {
   "cell_type": "code",
   "execution_count": 16,
   "id": "72427705",
   "metadata": {},
   "outputs": [
    {
     "data": {
      "text/plain": [
       "First_Term_Gpa                10\n",
       "Second_Term_Gpa               10\n",
       "First_Language_numeric         3\n",
       "Funding_numeric                6\n",
       "School_numeric                 1\n",
       "FastTrack_numeric              2\n",
       "Coop_numeric                   2\n",
       "Residency_numeric              2\n",
       "Gender_numeric                 3\n",
       "Previous_Education_numeric     4\n",
       "Age_Group_numeric              8\n",
       "English_Grade_numeric          8\n",
       "FirstYearPersistence           2\n",
       "dtype: int64"
      ]
     },
     "execution_count": 16,
     "metadata": {},
     "output_type": "execute_result"
    }
   ],
   "source": [
    "# After binning\n",
    "group3_dataset.nunique(axis=0)"
   ]
  },
  {
   "cell_type": "code",
   "execution_count": 17,
   "id": "e68b50a0",
   "metadata": {},
   "outputs": [
    {
     "name": "stdout",
     "output_type": "stream",
     "text": [
      "8    290\n",
      "7    269\n",
      "6    223\n",
      "9    206\n",
      "5    166\n",
      "4     92\n",
      "0     76\n",
      "3     43\n",
      "1     38\n",
      "2     34\n",
      "Name: First_Term_Gpa, dtype: int64\n"
     ]
    },
    {
     "data": {
      "image/png": "[encoded data removed]",
      "text/plain": [
       "<Figure size 432x288 with 1 Axes>"
      ]
     },
     "metadata": {
      "needs_background": "light"
     },
     "output_type": "display_data"
    },
    {
     "name": "stdout",
     "output_type": "stream",
     "text": [
      "6    377\n",
      "7    257\n",
      "8    244\n",
      "9    152\n",
      "5    145\n",
      "4     94\n",
      "0     72\n",
      "3     59\n",
      "2     25\n",
      "1     12\n",
      "Name: Second_Term_Gpa, dtype: int64\n"
     ]
    },
    {
     "data": {
      "image/png": "[encoded data removed]",
      "text/plain": [
       "<Figure size 432x288 with 1 Axes>"
      ]
     },
     "metadata": {
      "needs_background": "light"
     },
     "output_type": "display_data"
    },
    {
     "name": "stdout",
     "output_type": "stream",
     "text": [
      "1.0    720\n",
      "3.0    713\n",
      "2.0      4\n",
      "Name: First_Language_numeric, dtype: int64\n"
     ]
    },
    {
     "data": {
      "image/png": "[encoded data removed]",
      "text/plain": [
       "<Figure size 432x288 with 1 Axes>"
      ]
     },
     "metadata": {
      "needs_background": "light"
     },
     "output_type": "display_data"
    },
    {
     "name": "stdout",
     "output_type": "stream",
     "text": [
      "2.0    796\n",
      "4.0    574\n",
      "8.0     29\n",
      "1.0     27\n",
      "5.0     10\n",
      "9.0      1\n",
      "Name: Funding_numeric, dtype: int64\n"
     ]
    },
    {
     "data": {
      "image/png": "[encoded data removed]",
      "text/plain": [
       "<Figure size 432x288 with 1 Axes>"
      ]
     },
     "metadata": {
      "needs_background": "light"
     },
     "output_type": "display_data"
    },
    {
     "name": "stdout",
     "output_type": "stream",
     "text": [
      "6.0    1437\n",
      "Name: School_numeric, dtype: int64\n"
     ]
    },
    {
     "data": {
      "image/png": "[encoded data removed]",
      "text/plain": [
       "<Figure size 432x288 with 1 Axes>"
      ]
     },
     "metadata": {
      "needs_background": "light"
     },
     "output_type": "display_data"
    },
    {
     "name": "stdout",
     "output_type": "stream",
     "text": [
      "2.0    1066\n",
      "1.0     371\n",
      "Name: FastTrack_numeric, dtype: int64\n"
     ]
    },
    {
     "data": {
      "image/png": "[encoded data removed]",
      "text/plain": [
       "<Figure size 432x288 with 1 Axes>"
      ]
     },
     "metadata": {
      "needs_background": "light"
     },
     "output_type": "display_data"
    },
    {
     "name": "stdout",
     "output_type": "stream",
     "text": [
      "2.0    999\n",
      "1.0    438\n",
      "Name: Coop_numeric, dtype: int64\n"
     ]
    },
    {
     "data": {
      "image/png": "[encoded data removed]",
      "text/plain": [
       "<Figure size 432x288 with 1 Axes>"
      ]
     },
     "metadata": {
      "needs_background": "light"
     },
     "output_type": "display_data"
    },
    {
     "name": "stdout",
     "output_type": "stream",
     "text": [
      "1.0    853\n",
      "2.0    584\n",
      "Name: Residency_numeric, dtype: int64\n"
     ]
    },
    {
     "data": {
      "image/png": "[encoded data removed]",
      "text/plain": [
       "<Figure size 432x288 with 1 Axes>"
      ]
     },
     "metadata": {
      "needs_background": "light"
     },
     "output_type": "display_data"
    },
    {
     "name": "stdout",
     "output_type": "stream",
     "text": [
      "2.0    1111\n",
      "1.0     325\n",
      "3.0       1\n",
      "Name: Gender_numeric, dtype: int64\n"
     ]
    },
    {
     "data": {
      "image/png": "[encoded data removed]",
      "text/plain": [
       "<Figure size 432x288 with 1 Axes>"
      ]
     },
     "metadata": {
      "needs_background": "light"
     },
     "output_type": "display_data"
    },
    {
     "name": "stdout",
     "output_type": "stream",
     "text": [
      "1.0    863\n",
      "2.0    482\n",
      "0.0     88\n",
      "3.0      4\n",
      "Name: Previous_Education_numeric, dtype: int64\n"
     ]
    },
    {
     "data": {
      "image/png": "[encoded data removed]",
      "text/plain": [
       "<Figure size 432x288 with 1 Axes>"
      ]
     },
     "metadata": {
      "needs_background": "light"
     },
     "output_type": "display_data"
    },
    {
     "name": "stdout",
     "output_type": "stream",
     "text": [
      "3.0    554\n",
      "1.0    357\n",
      "2.0    294\n",
      "4.0    115\n",
      "5.0     41\n",
      "7.0     37\n",
      "6.0     30\n",
      "8.0      9\n",
      "Name: Age_Group_numeric, dtype: int64\n"
     ]
    },
    {
     "data": {
      "image/png": "[encoded data removed]",
      "text/plain": [
       "<Figure size 432x288 with 1 Axes>"
      ]
     },
     "metadata": {
      "needs_background": "light"
     },
     "output_type": "display_data"
    },
    {
     "name": "stdout",
     "output_type": "stream",
     "text": [
      "9.0     504\n",
      "8.0     316\n",
      "7.0     250\n",
      "10.0    187\n",
      "4.0      97\n",
      "3.0      78\n",
      "1.0       3\n",
      "2.0       2\n",
      "Name: English_Grade_numeric, dtype: int64\n"
     ]
    },
    {
     "data": {
      "image/png": "[encoded data removed]",
      "text/plain": [
       "<Figure size 432x288 with 1 Axes>"
      ]
     },
     "metadata": {
      "needs_background": "light"
     },
     "output_type": "display_data"
    },
    {
     "name": "stdout",
     "output_type": "stream",
     "text": [
      "1.0    1138\n",
      "0.0     299\n",
      "Name: FirstYearPersistence, dtype: int64\n"
     ]
    },
    {
     "data": {
      "image/png": "[encoded data removed]",
      "text/plain": [
       "<Figure size 432x288 with 1 Axes>"
      ]
     },
     "metadata": {
      "needs_background": "light"
     },
     "output_type": "display_data"
    }
   ],
   "source": [
    "for i in columns:\n",
    "    print(group3_dataset[i].value_counts())\n",
    "    plt.hist(group3_dataset[i])\n",
    "    plt.title(i)\n",
    "    plt.show()"
   ]
  },
  {
   "cell_type": "code",
   "execution_count": 18,
   "id": "9b6cc1e6",
   "metadata": {},
   "outputs": [],
   "source": [
    "group3_dataset = group3_dataset[group3_dataset.Gender_numeric != 3]"
   ]
  },
  {
   "cell_type": "code",
   "execution_count": 19,
   "id": "b42bc4f2",
   "metadata": {},
   "outputs": [],
   "source": [
    "persistence_0 = group3_dataset[group3_dataset.FirstYearPersistence != 1]\n",
    "persistence_1 = group3_dataset[group3_dataset.FirstYearPersistence != 0]"
   ]
  },
  {
   "cell_type": "code",
   "execution_count": 20,
   "id": "52afd0d6",
   "metadata": {},
   "outputs": [
    {
     "name": "stdout",
     "output_type": "stream",
     "text": [
      "(298, 13)\n",
      "(1138, 13)\n"
     ]
    }
   ],
   "source": [
    "# Only 298 labels with persistance 0 against 1138\n",
    "print(persistence_0.shape)\n",
    "print(persistence_1.shape)"
   ]
  },
  {
   "cell_type": "code",
   "execution_count": 21,
   "id": "1e792424",
   "metadata": {},
   "outputs": [],
   "source": [
    "from sklearn.utils import resample\n",
    "\n",
    "# Upsample minority class\n",
    "persistence_0 = resample(persistence_0, \n",
    "                                 replace=True,     # sample with replacement\n",
    "                                 n_samples=1138,random_state=68) # reproducible results"
   ]
  },
  {
   "cell_type": "code",
   "execution_count": 22,
   "id": "0cf4a7bd",
   "metadata": {},
   "outputs": [
    {
     "name": "stdout",
     "output_type": "stream",
     "text": [
      "(1138, 13)\n",
      "(1138, 13)\n"
     ]
    }
   ],
   "source": [
    "print(persistence_0.shape)\n",
    "print(persistence_1.shape)"
   ]
  },
  {
   "cell_type": "code",
   "execution_count": 23,
   "id": "2120c6a8",
   "metadata": {},
   "outputs": [
    {
     "name": "stdout",
     "output_type": "stream",
     "text": [
      "(2276, 13)\n"
     ]
    }
   ],
   "source": [
    "group3_dataset = pd.concat([persistence_0,persistence_1])\n",
    "print(group3_dataset.shape)"
   ]
  },
  {
   "cell_type": "code",
   "execution_count": 24,
   "id": "58c0e677",
   "metadata": {},
   "outputs": [
    {
     "name": "stdout",
     "output_type": "stream",
     "text": [
      "0.0    1138\n",
      "1.0    1138\n",
      "Name: FirstYearPersistence, dtype: int64\n"
     ]
    }
   ],
   "source": [
    "# It is balanced now\n",
    "print(group3_dataset['FirstYearPersistence'].value_counts())"
   ]
  },
  {
   "cell_type": "code",
   "execution_count": 25,
   "id": "25834475",
   "metadata": {},
   "outputs": [],
   "source": [
    "corr_matrix = group3_dataset.corr()"
   ]
  },
  {
   "cell_type": "code",
   "execution_count": 26,
   "id": "ded9114e-3fed-45c0-a5ee-20ea110357f5",
   "metadata": {},
   "outputs": [
    {
     "data": {
      "image/png": "[encoded data removed]",
      "text/plain": [
       "<Figure size 432x288 with 2 Axes>"
      ]
     },
     "metadata": {
      "needs_background": "light"
     },
     "output_type": "display_data"
    }
   ],
   "source": [
    "import seaborn as sns\n",
    "import matplotlib.pyplot as plt\n",
    "sns.heatmap(corr_matrix)\n",
    "plt.show()"
   ]
  },
  {
   "cell_type": "code",
   "execution_count": 27,
   "id": "4223a7fd",
   "metadata": {},
   "outputs": [
    {
     "data": {
      "text/plain": [
       "array([6.])"
      ]
     },
     "execution_count": 27,
     "metadata": {},
     "output_type": "execute_result"
    }
   ],
   "source": [
    "# Only contains 1 value\n",
    "group3_dataset['School_numeric'].unique()"
   ]
  },
  {
   "cell_type": "code",
   "execution_count": 28,
   "id": "5318b37b-68a7-4464-b099-9f3b69087ee4",
   "metadata": {},
   "outputs": [],
   "source": [
    "group3_dataset =group3_dataset.drop('School_numeric',axis=1)"
   ]
  },
  {
   "cell_type": "code",
   "execution_count": 29,
   "id": "691c7436",
   "metadata": {},
   "outputs": [
    {
     "data": {
      "text/html": [
       "<div>\n",
       "<style scoped>\n",
       "    .dataframe tbody tr th:only-of-type {\n",
       "        vertical-align: middle;\n",
       "    }\n",
       "\n",
       "    .dataframe tbody tr th {\n",
       "        vertical-align: top;\n",
       "    }\n",
       "\n",
       "    .dataframe thead th {\n",
       "        text-align: right;\n",
       "    }\n",
       "</style>\n",
       "<table border=\"1\" class=\"dataframe\">\n",
       "  <thead>\n",
       "    <tr style=\"text-align: right;\">\n",
       "      <th></th>\n",
       "      <th>First_Term_Gpa</th>\n",
       "      <th>Second_Term_Gpa</th>\n",
       "      <th>First_Language_numeric</th>\n",
       "      <th>Funding_numeric</th>\n",
       "      <th>FastTrack_numeric</th>\n",
       "      <th>Coop_numeric</th>\n",
       "      <th>Residency_numeric</th>\n",
       "      <th>Gender_numeric</th>\n",
       "      <th>Previous_Education_numeric</th>\n",
       "      <th>Age_Group_numeric</th>\n",
       "      <th>English_Grade_numeric</th>\n",
       "      <th>FirstYearPersistence</th>\n",
       "    </tr>\n",
       "  </thead>\n",
       "  <tbody>\n",
       "    <tr>\n",
       "      <th>1028</th>\n",
       "      <td>1</td>\n",
       "      <td>0</td>\n",
       "      <td>1.0</td>\n",
       "      <td>2.0</td>\n",
       "      <td>2.0</td>\n",
       "      <td>2.0</td>\n",
       "      <td>1.0</td>\n",
       "      <td>2.0</td>\n",
       "      <td>1.0</td>\n",
       "      <td>2.0</td>\n",
       "      <td>9.0</td>\n",
       "      <td>0.0</td>\n",
       "    </tr>\n",
       "    <tr>\n",
       "      <th>1204</th>\n",
       "      <td>1</td>\n",
       "      <td>0</td>\n",
       "      <td>1.0</td>\n",
       "      <td>2.0</td>\n",
       "      <td>2.0</td>\n",
       "      <td>1.0</td>\n",
       "      <td>1.0</td>\n",
       "      <td>1.0</td>\n",
       "      <td>1.0</td>\n",
       "      <td>2.0</td>\n",
       "      <td>9.0</td>\n",
       "      <td>0.0</td>\n",
       "    </tr>\n",
       "    <tr>\n",
       "      <th>1226</th>\n",
       "      <td>4</td>\n",
       "      <td>6</td>\n",
       "      <td>1.0</td>\n",
       "      <td>2.0</td>\n",
       "      <td>2.0</td>\n",
       "      <td>2.0</td>\n",
       "      <td>1.0</td>\n",
       "      <td>2.0</td>\n",
       "      <td>1.0</td>\n",
       "      <td>1.0</td>\n",
       "      <td>9.0</td>\n",
       "      <td>0.0</td>\n",
       "    </tr>\n",
       "    <tr>\n",
       "      <th>753</th>\n",
       "      <td>6</td>\n",
       "      <td>6</td>\n",
       "      <td>1.0</td>\n",
       "      <td>2.0</td>\n",
       "      <td>2.0</td>\n",
       "      <td>1.0</td>\n",
       "      <td>1.0</td>\n",
       "      <td>2.0</td>\n",
       "      <td>1.0</td>\n",
       "      <td>3.0</td>\n",
       "      <td>3.0</td>\n",
       "      <td>0.0</td>\n",
       "    </tr>\n",
       "    <tr>\n",
       "      <th>157</th>\n",
       "      <td>2</td>\n",
       "      <td>5</td>\n",
       "      <td>1.0</td>\n",
       "      <td>2.0</td>\n",
       "      <td>2.0</td>\n",
       "      <td>2.0</td>\n",
       "      <td>1.0</td>\n",
       "      <td>1.0</td>\n",
       "      <td>1.0</td>\n",
       "      <td>1.0</td>\n",
       "      <td>7.0</td>\n",
       "      <td>0.0</td>\n",
       "    </tr>\n",
       "    <tr>\n",
       "      <th>...</th>\n",
       "      <td>...</td>\n",
       "      <td>...</td>\n",
       "      <td>...</td>\n",
       "      <td>...</td>\n",
       "      <td>...</td>\n",
       "      <td>...</td>\n",
       "      <td>...</td>\n",
       "      <td>...</td>\n",
       "      <td>...</td>\n",
       "      <td>...</td>\n",
       "      <td>...</td>\n",
       "      <td>...</td>\n",
       "    </tr>\n",
       "    <tr>\n",
       "      <th>1454</th>\n",
       "      <td>8</td>\n",
       "      <td>8</td>\n",
       "      <td>3.0</td>\n",
       "      <td>4.0</td>\n",
       "      <td>2.0</td>\n",
       "      <td>2.0</td>\n",
       "      <td>2.0</td>\n",
       "      <td>2.0</td>\n",
       "      <td>2.0</td>\n",
       "      <td>2.0</td>\n",
       "      <td>8.0</td>\n",
       "      <td>1.0</td>\n",
       "    </tr>\n",
       "    <tr>\n",
       "      <th>1456</th>\n",
       "      <td>9</td>\n",
       "      <td>9</td>\n",
       "      <td>1.0</td>\n",
       "      <td>2.0</td>\n",
       "      <td>1.0</td>\n",
       "      <td>1.0</td>\n",
       "      <td>1.0</td>\n",
       "      <td>1.0</td>\n",
       "      <td>2.0</td>\n",
       "      <td>4.0</td>\n",
       "      <td>10.0</td>\n",
       "      <td>1.0</td>\n",
       "    </tr>\n",
       "    <tr>\n",
       "      <th>1457</th>\n",
       "      <td>5</td>\n",
       "      <td>5</td>\n",
       "      <td>1.0</td>\n",
       "      <td>2.0</td>\n",
       "      <td>2.0</td>\n",
       "      <td>1.0</td>\n",
       "      <td>1.0</td>\n",
       "      <td>2.0</td>\n",
       "      <td>1.0</td>\n",
       "      <td>1.0</td>\n",
       "      <td>9.0</td>\n",
       "      <td>1.0</td>\n",
       "    </tr>\n",
       "    <tr>\n",
       "      <th>1458</th>\n",
       "      <td>9</td>\n",
       "      <td>9</td>\n",
       "      <td>3.0</td>\n",
       "      <td>4.0</td>\n",
       "      <td>2.0</td>\n",
       "      <td>1.0</td>\n",
       "      <td>2.0</td>\n",
       "      <td>1.0</td>\n",
       "      <td>1.0</td>\n",
       "      <td>2.0</td>\n",
       "      <td>8.0</td>\n",
       "      <td>1.0</td>\n",
       "    </tr>\n",
       "    <tr>\n",
       "      <th>1459</th>\n",
       "      <td>5</td>\n",
       "      <td>7</td>\n",
       "      <td>1.0</td>\n",
       "      <td>2.0</td>\n",
       "      <td>2.0</td>\n",
       "      <td>2.0</td>\n",
       "      <td>1.0</td>\n",
       "      <td>1.0</td>\n",
       "      <td>1.0</td>\n",
       "      <td>1.0</td>\n",
       "      <td>9.0</td>\n",
       "      <td>1.0</td>\n",
       "    </tr>\n",
       "  </tbody>\n",
       "</table>\n",
       "<p>2276 rows × 12 columns</p>\n",
       "</div>"
      ],
      "text/plain": [
       "      First_Term_Gpa  Second_Term_Gpa  First_Language_numeric  \\\n",
       "1028               1                0                     1.0   \n",
       "1204               1                0                     1.0   \n",
       "1226               4                6                     1.0   \n",
       "753                6                6                     1.0   \n",
       "157                2                5                     1.0   \n",
       "...              ...              ...                     ...   \n",
       "1454               8                8                     3.0   \n",
       "1456               9                9                     1.0   \n",
       "1457               5                5                     1.0   \n",
       "1458               9                9                     3.0   \n",
       "1459               5                7                     1.0   \n",
       "\n",
       "      Funding_numeric  FastTrack_numeric  Coop_numeric  Residency_numeric  \\\n",
       "1028              2.0                2.0           2.0                1.0   \n",
       "1204              2.0                2.0           1.0                1.0   \n",
       "1226              2.0                2.0           2.0                1.0   \n",
       "753               2.0                2.0           1.0                1.0   \n",
       "157               2.0                2.0           2.0                1.0   \n",
       "...               ...                ...           ...                ...   \n",
       "1454              4.0                2.0           2.0                2.0   \n",
       "1456              2.0                1.0           1.0                1.0   \n",
       "1457              2.0                2.0           1.0                1.0   \n",
       "1458              4.0                2.0           1.0                2.0   \n",
       "1459              2.0                2.0           2.0                1.0   \n",
       "\n",
       "      Gender_numeric  Previous_Education_numeric  Age_Group_numeric  \\\n",
       "1028             2.0                         1.0                2.0   \n",
       "1204             1.0                         1.0                2.0   \n",
       "1226             2.0                         1.0                1.0   \n",
       "753              2.0                         1.0                3.0   \n",
       "157              1.0                         1.0                1.0   \n",
       "...              ...                         ...                ...   \n",
       "1454             2.0                         2.0                2.0   \n",
       "1456             1.0                         2.0                4.0   \n",
       "1457             2.0                         1.0                1.0   \n",
       "1458             1.0                         1.0                2.0   \n",
       "1459             1.0                         1.0                1.0   \n",
       "\n",
       "      English_Grade_numeric  FirstYearPersistence  \n",
       "1028                    9.0                   0.0  \n",
       "1204                    9.0                   0.0  \n",
       "1226                    9.0                   0.0  \n",
       "753                     3.0                   0.0  \n",
       "157                     7.0                   0.0  \n",
       "...                     ...                   ...  \n",
       "1454                    8.0                   1.0  \n",
       "1456                   10.0                   1.0  \n",
       "1457                    9.0                   1.0  \n",
       "1458                    8.0                   1.0  \n",
       "1459                    9.0                   1.0  \n",
       "\n",
       "[2276 rows x 12 columns]"
      ]
     },
     "execution_count": 29,
     "metadata": {},
     "output_type": "execute_result"
    }
   ],
   "source": [
    "group3_dataset"
   ]
  },
  {
   "cell_type": "code",
   "execution_count": 30,
   "id": "a803207f",
   "metadata": {},
   "outputs": [],
   "source": [
    "x = group3_dataset.drop('FirstYearPersistence', axis=1)"
   ]
  },
  {
   "cell_type": "code",
   "execution_count": 31,
   "id": "7d49b9da",
   "metadata": {},
   "outputs": [],
   "source": [
    "y = group3_dataset['FirstYearPersistence']"
   ]
  },
  {
   "cell_type": "code",
   "execution_count": 32,
   "id": "2775cc6b",
   "metadata": {},
   "outputs": [
    {
     "data": {
      "text/html": [
       "<div>\n",
       "<style scoped>\n",
       "    .dataframe tbody tr th:only-of-type {\n",
       "        vertical-align: middle;\n",
       "    }\n",
       "\n",
       "    .dataframe tbody tr th {\n",
       "        vertical-align: top;\n",
       "    }\n",
       "\n",
       "    .dataframe thead th {\n",
       "        text-align: right;\n",
       "    }\n",
       "</style>\n",
       "<table border=\"1\" class=\"dataframe\">\n",
       "  <thead>\n",
       "    <tr style=\"text-align: right;\">\n",
       "      <th></th>\n",
       "      <th>First_Term_Gpa</th>\n",
       "      <th>Second_Term_Gpa</th>\n",
       "      <th>First_Language_numeric</th>\n",
       "      <th>Funding_numeric</th>\n",
       "      <th>FastTrack_numeric</th>\n",
       "      <th>Coop_numeric</th>\n",
       "      <th>Residency_numeric</th>\n",
       "      <th>Gender_numeric</th>\n",
       "      <th>Previous_Education_numeric</th>\n",
       "      <th>Age_Group_numeric</th>\n",
       "      <th>English_Grade_numeric</th>\n",
       "    </tr>\n",
       "  </thead>\n",
       "  <tbody>\n",
       "    <tr>\n",
       "      <th>1028</th>\n",
       "      <td>1</td>\n",
       "      <td>0</td>\n",
       "      <td>1.0</td>\n",
       "      <td>2.0</td>\n",
       "      <td>2.0</td>\n",
       "      <td>2.0</td>\n",
       "      <td>1.0</td>\n",
       "      <td>2.0</td>\n",
       "      <td>1.0</td>\n",
       "      <td>2.0</td>\n",
       "      <td>9.0</td>\n",
       "    </tr>\n",
       "    <tr>\n",
       "      <th>1204</th>\n",
       "      <td>1</td>\n",
       "      <td>0</td>\n",
       "      <td>1.0</td>\n",
       "      <td>2.0</td>\n",
       "      <td>2.0</td>\n",
       "      <td>1.0</td>\n",
       "      <td>1.0</td>\n",
       "      <td>1.0</td>\n",
       "      <td>1.0</td>\n",
       "      <td>2.0</td>\n",
       "      <td>9.0</td>\n",
       "    </tr>\n",
       "    <tr>\n",
       "      <th>1226</th>\n",
       "      <td>4</td>\n",
       "      <td>6</td>\n",
       "      <td>1.0</td>\n",
       "      <td>2.0</td>\n",
       "      <td>2.0</td>\n",
       "      <td>2.0</td>\n",
       "      <td>1.0</td>\n",
       "      <td>2.0</td>\n",
       "      <td>1.0</td>\n",
       "      <td>1.0</td>\n",
       "      <td>9.0</td>\n",
       "    </tr>\n",
       "    <tr>\n",
       "      <th>753</th>\n",
       "      <td>6</td>\n",
       "      <td>6</td>\n",
       "      <td>1.0</td>\n",
       "      <td>2.0</td>\n",
       "      <td>2.0</td>\n",
       "      <td>1.0</td>\n",
       "      <td>1.0</td>\n",
       "      <td>2.0</td>\n",
       "      <td>1.0</td>\n",
       "      <td>3.0</td>\n",
       "      <td>3.0</td>\n",
       "    </tr>\n",
       "    <tr>\n",
       "      <th>157</th>\n",
       "      <td>2</td>\n",
       "      <td>5</td>\n",
       "      <td>1.0</td>\n",
       "      <td>2.0</td>\n",
       "      <td>2.0</td>\n",
       "      <td>2.0</td>\n",
       "      <td>1.0</td>\n",
       "      <td>1.0</td>\n",
       "      <td>1.0</td>\n",
       "      <td>1.0</td>\n",
       "      <td>7.0</td>\n",
       "    </tr>\n",
       "  </tbody>\n",
       "</table>\n",
       "</div>"
      ],
      "text/plain": [
       "      First_Term_Gpa  Second_Term_Gpa  First_Language_numeric  \\\n",
       "1028               1                0                     1.0   \n",
       "1204               1                0                     1.0   \n",
       "1226               4                6                     1.0   \n",
       "753                6                6                     1.0   \n",
       "157                2                5                     1.0   \n",
       "\n",
       "      Funding_numeric  FastTrack_numeric  Coop_numeric  Residency_numeric  \\\n",
       "1028              2.0                2.0           2.0                1.0   \n",
       "1204              2.0                2.0           1.0                1.0   \n",
       "1226              2.0                2.0           2.0                1.0   \n",
       "753               2.0                2.0           1.0                1.0   \n",
       "157               2.0                2.0           2.0                1.0   \n",
       "\n",
       "      Gender_numeric  Previous_Education_numeric  Age_Group_numeric  \\\n",
       "1028             2.0                         1.0                2.0   \n",
       "1204             1.0                         1.0                2.0   \n",
       "1226             2.0                         1.0                1.0   \n",
       "753              2.0                         1.0                3.0   \n",
       "157              1.0                         1.0                1.0   \n",
       "\n",
       "      English_Grade_numeric  \n",
       "1028                    9.0  \n",
       "1204                    9.0  \n",
       "1226                    9.0  \n",
       "753                     3.0  \n",
       "157                     7.0  "
      ]
     },
     "execution_count": 32,
     "metadata": {},
     "output_type": "execute_result"
    }
   ],
   "source": [
    "finalised_dataset = x\n",
    "finalised_dataset.head()"
   ]
  },
  {
   "cell_type": "code",
   "execution_count": 33,
   "id": "e207e461",
   "metadata": {},
   "outputs": [],
   "source": [
    "#from sklearn.preprocessing import MinMaxScaler"
   ]
  },
  {
   "cell_type": "code",
   "execution_count": 34,
   "id": "8f283c18",
   "metadata": {},
   "outputs": [],
   "source": [
    "#scalar = MinMaxScaler()"
   ]
  },
  {
   "cell_type": "code",
   "execution_count": 35,
   "id": "d78e49ba",
   "metadata": {},
   "outputs": [],
   "source": [
    "#finalised_dataset[finalised_dataset.columns] = scalar.fit_transform(finalised_dataset)"
   ]
  },
  {
   "cell_type": "code",
   "execution_count": 36,
   "id": "f018d07a-5147-472b-920d-7447808b86d8",
   "metadata": {},
   "outputs": [],
   "source": [
    "from sklearn.model_selection import train_test_split\n",
    "x_main, x_Test,y_main, y_Test=train_test_split(x,y,test_size=0.20,random_state=68,stratify=y)\n",
    "x_Train, x_Val, y_Train, y_Val = train_test_split(x_main,y_main,test_size=0.25,random_state=68,stratify=y_main)"
   ]
  },
  {
   "cell_type": "code",
   "execution_count": 37,
   "id": "b3179819",
   "metadata": {},
   "outputs": [
    {
     "name": "stdout",
     "output_type": "stream",
     "text": [
      "(1365, 11)\n",
      "(1365,)\n",
      "(455, 11)\n",
      "(455,)\n",
      "(456, 11)\n",
      "(456,)\n"
     ]
    }
   ],
   "source": [
    "print(x_Train.shape)\n",
    "print(y_Train.shape)\n",
    "print(x_Val.shape)\n",
    "print(y_Val.shape)\n",
    "print(x_Test.shape)\n",
    "print(y_Test.shape)"
   ]
  },
  {
   "cell_type": "code",
   "execution_count": 38,
   "id": "8ddf98b3",
   "metadata": {},
   "outputs": [
    {
     "data": {
      "text/plain": [
       "0.0    683\n",
       "1.0    682\n",
       "Name: FirstYearPersistence, dtype: int64"
      ]
     },
     "execution_count": 38,
     "metadata": {},
     "output_type": "execute_result"
    }
   ],
   "source": [
    "# Same because of stratified sampling\n",
    "y_Train.value_counts()"
   ]
  },
  {
   "cell_type": "code",
   "execution_count": 39,
   "id": "857cfdb4",
   "metadata": {},
   "outputs": [
    {
     "data": {
      "text/plain": [
       "(1365, 11)"
      ]
     },
     "execution_count": 39,
     "metadata": {},
     "output_type": "execute_result"
    }
   ],
   "source": [
    "x_Train.shape"
   ]
  },
  {
   "cell_type": "code",
   "execution_count": 40,
   "id": "1a210374-9311-4985-ac68-7dcdaa7d8870",
   "metadata": {},
   "outputs": [],
   "source": [
    "from sklearn.preprocessing import StandardScaler\n",
    "sc = StandardScaler()\n",
    "x_Train = sc.fit_transform(x_Train)\n",
    "x_Test = sc.transform(x_Test)\n",
    "x_Val = sc.transform(x_Val)"
   ]
  },
  {
   "cell_type": "code",
   "execution_count": 41,
   "id": "0dabbddf-f03c-4557-a220-abff1f0eb1ae",
   "metadata": {},
   "outputs": [],
   "source": [
    "import tensorflow as tf\n",
    "import keras\n",
    "from keras.models import Sequential\n",
    "from keras.layers import Dense\n",
    "\n",
    "tf.random.set_seed(68)"
   ]
  },
  {
   "cell_type": "code",
   "execution_count": 42,
   "id": "b84bf86c",
   "metadata": {},
   "outputs": [
    {
     "data": {
      "text/plain": [
       "<keras.engine.sequential.Sequential at 0x26128be36d0>"
      ]
     },
     "execution_count": 42,
     "metadata": {},
     "output_type": "execute_result"
    }
   ],
   "source": [
    "def call_existing_code(units, activation, lr):\n",
    "    model = keras.Sequential()\n",
    "    model.add(Dense(units=units, input_shape=(1,11),activation=activation))\n",
    "    model.add(Dense(units=units, activation=activation))\n",
    "    model.add(Dense(units=units, activation=activation))\n",
    "    model.add(Dense(1, activation='sigmoid'))\n",
    "    model.compile(\n",
    "        optimizer=keras.optimizers.Adam(learning_rate=lr),\n",
    "        loss='mse',\n",
    "        metrics=['accuracy'],\n",
    "    )\n",
    "    return model\n",
    "\n",
    "def build_model(hp):\n",
    "    units = hp.Int('units', min_value=32, max_value=512, step=32)\n",
    "    units2 = hp.Int('units', min_value=32, max_value=512, step=32)\n",
    "    activation = hp.Choice('activation', ['relu', 'leaky_relu','linear'])\n",
    "    lr = hp.Float('lr', min_value=1e-4, max_value=1e-2, sampling='log')\n",
    "    model = call_existing_code(\n",
    "        units=units, activation=activation, lr=lr\n",
    "    )\n",
    "    return model\n",
    "\n",
    "build_model(keras_tuner.HyperParameters())"
   ]
  },
  {
   "cell_type": "code",
   "execution_count": 43,
   "id": "026f9db8",
   "metadata": {},
   "outputs": [],
   "source": [
    "tuner = keras_tuner.RandomSearch(\n",
    "    hypermodel=build_model,\n",
    "    objective='val_accuracy',\n",
    "    max_trials=200,\n",
    "    seed=68,\n",
    "    executions_per_trial=1,\n",
    "    overwrite=True,\n",
    ")"
   ]
  },
  {
   "cell_type": "code",
   "execution_count": 44,
   "id": "db4432c3",
   "metadata": {},
   "outputs": [],
   "source": [
    "# x_Train = x_Train.to_numpy()\n",
    "# x_Test = x_Test.to_numpy()\n",
    "# x_Val =  x_Val.to_numpy()\n",
    "\n",
    "x_Train = x_Train.reshape((1365, 1, 11))\n",
    "x_Test = x_Test.reshape((456, 1, 11))\n",
    "x_Val =  x_Val.reshape((455, 1, 11))"
   ]
  },
  {
   "cell_type": "code",
   "execution_count": 45,
   "id": "299517b6",
   "metadata": {},
   "outputs": [
    {
     "name": "stdout",
     "output_type": "stream",
     "text": [
      "Trial 200 Complete [00h 00m 04s]\n",
      "val_accuracy: 0.8285714387893677\n",
      "\n",
      "Best val_accuracy So Far: 0.894505500793457\n",
      "Total elapsed time: 00h 14m 20s\n",
      "INFO:tensorflow:Oracle triggered exit\n"
     ]
    }
   ],
   "source": [
    "tuner.search(x_Train,y_Train, epochs=25, validation_data=(x_Val, y_Val))"
   ]
  },
  {
   "cell_type": "code",
   "execution_count": 46,
   "id": "052f0b74",
   "metadata": {},
   "outputs": [
    {
     "data": {
      "text/plain": [
       "{'units': 288, 'activation': 'relu', 'lr': 0.0012101560484690849}"
      ]
     },
     "metadata": {},
     "output_type": "display_data"
    }
   ],
   "source": [
    "display(tuner.get_best_hyperparameters()[0].values)"
   ]
  },
  {
   "cell_type": "code",
   "execution_count": 47,
   "id": "b9459d11",
   "metadata": {},
   "outputs": [
    {
     "name": "stdout",
     "output_type": "stream",
     "text": [
      "Model: \"sequential\"\n",
      "_________________________________________________________________\n",
      " Layer (type)                Output Shape              Param #   \n",
      "=================================================================\n",
      " dense (Dense)               (None, 1, 288)            3456      \n",
      "                                                                 \n",
      " dense_1 (Dense)             (None, 1, 288)            83232     \n",
      "                                                                 \n",
      " dense_2 (Dense)             (None, 1, 288)            83232     \n",
      "                                                                 \n",
      " dense_3 (Dense)             (None, 1, 1)              289       \n",
      "                                                                 \n",
      "=================================================================\n",
      "Total params: 170,209\n",
      "Trainable params: 170,209\n",
      "Non-trainable params: 0\n",
      "_________________________________________________________________\n"
     ]
    }
   ],
   "source": [
    "models = tuner.get_best_models(num_models=1)\n",
    "best_model = models[0]\n",
    "best_model.build()\n",
    "best_model.summary()"
   ]
  },
  {
   "cell_type": "code",
   "execution_count": 48,
   "id": "f981b32d",
   "metadata": {},
   "outputs": [
    {
     "name": "stdout",
     "output_type": "stream",
     "text": [
      "15/15 [==============================] - 0s 1ms/step - loss: 0.1316 - accuracy: 0.8355\n"
     ]
    },
    {
     "data": {
      "text/plain": [
       "[0.13159482181072235, 0.8355262875556946]"
      ]
     },
     "execution_count": 48,
     "metadata": {},
     "output_type": "execute_result"
    }
   ],
   "source": [
    "best_model.evaluate(x_Test,y_Test)"
   ]
  },
  {
   "cell_type": "code",
   "execution_count": 49,
   "id": "2849e876-49f0-4b1a-ba26-d917a595f700",
   "metadata": {},
   "outputs": [],
   "source": [
    "dump(sc, open('scaler.pkl', 'wb'))"
   ]
  },
  {
   "cell_type": "code",
   "execution_count": 50,
   "id": "106b0392-3040-4193-965c-38fbe8759d3c",
   "metadata": {},
   "outputs": [],
   "source": [
    "best_model.save(\"model.h5\")"
   ]
  }
 ],
 "metadata": {
  "kernelspec": {
   "display_name": "Python 3 (ipykernel)",
   "language": "python",
   "name": "python3"
  },
  "language_info": {
   "codemirror_mode": {
    "name": "ipython",
    "version": 3
   },
   "file_extension": ".py",
   "mimetype": "text/x-python",
   "name": "python",
   "nbconvert_exporter": "python",
   "pygments_lexer": "ipython3",
   "version": "3.9.12"
  }
 },
 "nbformat": 4,
 "nbformat_minor": 5
}
